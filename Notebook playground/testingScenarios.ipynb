{
 "cells": [
  {
   "cell_type": "code",
   "execution_count": 3,
   "metadata": {},
   "outputs": [],
   "source": [
    "import torch\n",
    "import seaborn as sns\n",
    "import matplotlib.pyplot as plt\n",
    "import pickle\n",
    "import numpy as np\n",
    "import nan_cpp as nanCPP\n",
    "import time\n",
    "from nan_ops import NaNPool2d, NormalPool2d, NaNConv2d, NormalConv2d, NaNConv2dV2\n",
    "\n"
   ]
  },
  {
   "cell_type": "code",
   "execution_count": 5,
   "metadata": {},
   "outputs": [
    {
     "data": {
      "text/plain": [
       "tensor([[[[nan, nan, nan,  ..., nan, nan, nan],\n",
       "          [nan, nan, nan,  ..., nan, nan, nan],\n",
       "          [nan, nan, nan,  ..., nan, nan, nan],\n",
       "          ...,\n",
       "          [nan, nan, nan,  ..., nan, nan, nan],\n",
       "          [nan, nan, nan,  ..., nan, nan, nan],\n",
       "          [nan, nan, nan,  ..., nan, nan, nan]]]])"
      ]
     },
     "execution_count": 5,
     "metadata": {},
     "output_type": "execute_result"
    }
   ],
   "source": [
    "# Creating a tensor for testing purposes\n",
    "full_nan = torch.full((1,1,100, 100), torch.nan)\n",
    "full_nan"
   ]
  },
  {
   "cell_type": "code",
   "execution_count": null,
   "metadata": {},
   "outputs": [],
   "source": [
    "# Timing the time it takes with CONV2D vs NANCONV2D\n",
    "%%timeit -o -n 1 -r 10\n",
    "normalConv = NormalConv2d(kernel_size = (3,3), kernel = kernel, padding = 0)\n",
    "normaloutput =  normalConv(a)  # pool_size == kernel_size"
   ]
  },
  {
   "cell_type": "code",
   "execution_count": null,
   "metadata": {},
   "outputs": [],
   "source": [
    "saved_time_Normal = _\n",
    "saved_time_Normal = saved_time_Normal.average"
   ]
  },
  {
   "cell_type": "code",
   "execution_count": null,
   "metadata": {},
   "outputs": [],
   "source": [
    "%%timeit -o -n 1 -r 10\n",
    "nanConv = NaNConv2d(kernel_size = (3,3), kernel = kernel, padding = 1, threshold = 1)\n",
    "nanoutput = nanConv(a)"
   ]
  }
 ],
 "metadata": {
  "kernelspec": {
   "display_name": "jupyter_torch",
   "language": "python",
   "name": "python3"
  },
  "language_info": {
   "codemirror_mode": {
    "name": "ipython",
    "version": 3
   },
   "file_extension": ".py",
   "mimetype": "text/x-python",
   "name": "python",
   "nbconvert_exporter": "python",
   "pygments_lexer": "ipython3",
   "version": "3.11.9"
  }
 },
 "nbformat": 4,
 "nbformat_minor": 2
}
