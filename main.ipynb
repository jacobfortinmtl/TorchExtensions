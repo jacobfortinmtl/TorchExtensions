{
 "cells": [
  {
   "cell_type": "code",
   "execution_count": 1,
   "metadata": {},
   "outputs": [],
   "source": [
    "import torch\n",
    "import seaborn as sns\n",
    "import matplotlib.pyplot as plt\n",
    "import pickle\n",
    "import numpy as np\n",
    "import nan_cpp as nanCPP\n",
    "import time\n",
    "from nan_ops import NaNPool2d, NormalPool2d, NaNConv2d, NormalConv2d, NaNConv2dV2\n",
    "\n",
    "FILENAME = \"mri_data//sample_data//outp_bn3_1.pkl\"\n",
    "# Load the data from the pickle file\n",
    "data = pickle.load(open(FILENAME, 'rb'))\n",
    "\n",
    "if isinstance(data, tuple):\n",
    "    a = data[0]\n",
    "else:\n",
    "    a = data"
   ]
  },
  {
   "cell_type": "markdown",
   "metadata": {},
   "source": [
    "# Comparison of different pooling operations"
   ]
  },
  {
   "cell_type": "markdown",
   "metadata": {},
   "source": [
    "C++ Pooling"
   ]
  },
  {
   "cell_type": "code",
   "execution_count": null,
   "metadata": {},
   "outputs": [],
   "source": [
    "%%timeit -o -n 10 -r 3\n",
    "nanoutput, nanindices = nanCPP.NaNPool2d(a, (2,2), 0.25, None)\n"
   ]
  },
  {
   "cell_type": "code",
   "execution_count": null,
   "metadata": {},
   "outputs": [],
   "source": [
    "cppTime = _"
   ]
  },
  {
   "cell_type": "markdown",
   "metadata": {},
   "source": [
    "Python Pooling"
   ]
  },
  {
   "cell_type": "code",
   "execution_count": null,
   "metadata": {},
   "outputs": [],
   "source": [
    "%%timeit -o -n 10 -r 3\n",
    "nanpoolPy = NaNPool2d(threshold=0.25)\n",
    "nanoutputPy, nanindicesPy = nanpoolPy(a, pool_size=(2,2), strides=(2,2))  # pool_size == kernel_size\n"
   ]
  },
  {
   "cell_type": "code",
   "execution_count": null,
   "metadata": {},
   "outputs": [],
   "source": [
    "pyTime = _"
   ]
  },
  {
   "cell_type": "markdown",
   "metadata": {},
   "source": [
    "Normal Pool"
   ]
  },
  {
   "cell_type": "code",
   "execution_count": null,
   "metadata": {},
   "outputs": [],
   "source": [
    "%%timeit -o -n 10 -r 3\n",
    "normalpool = NormalPool2d(threshold=1)\n",
    "normaloutput, normalindices = normalpool(a, pool_size=(2,2), strides=(2,2))  # pool_size == kernel_size\n"
   ]
  },
  {
   "cell_type": "code",
   "execution_count": null,
   "metadata": {},
   "outputs": [],
   "source": [
    "normalTime = _"
   ]
  },
  {
   "cell_type": "markdown",
   "metadata": {},
   "source": [
    "Torch Pool"
   ]
  },
  {
   "cell_type": "code",
   "execution_count": null,
   "metadata": {},
   "outputs": [],
   "source": [
    "%%timeit -o -n 10 -r 3\n",
    "pool = torch.nn.MaxPool2d(2, 2, return_indices=True)\n",
    "torchoutput, torchindices = pool(a)\n",
    "\n",
    "\n",
    "# plt.savefig('/workspace/output_comparison.png')  # Save the first plot"
   ]
  },
  {
   "cell_type": "code",
   "execution_count": null,
   "metadata": {},
   "outputs": [],
   "source": [
    "torchTime = _"
   ]
  },
  {
   "cell_type": "markdown",
   "metadata": {},
   "source": [
    "Visualizing the pooling"
   ]
  },
  {
   "cell_type": "code",
   "execution_count": null,
   "metadata": {},
   "outputs": [],
   "source": [
    "# Visualize output\n",
    "fig, axes = plt.subplots(2, 2, figsize=(10, 7))\n",
    "\n",
    "sns.heatmap(np.mean(nanoutput.detach().numpy().squeeze(), axis=0), ax=axes[0][0])\n",
    "axes[0][0].set_title('CPP Pool Threshold 0.25')\n",
    "sns.heatmap(np.mean(nanoutputPy.detach().numpy().squeeze(), axis=0), ax=axes[0][1])\n",
    "axes[0][1].set_title('Python Pool Threshold 0.25')\n",
    "sns.heatmap(np.mean(normaloutput.detach().numpy().squeeze(), axis=0), ax=axes[1][0])\n",
    "axes[1][0].set_title('Manual Pool')\n",
    "sns.heatmap(np.mean(torchoutput.detach().numpy().squeeze(), axis=0), ax=axes[1][1])\n",
    "axes[1][1].set_title('Torch Pool')\n",
    "fig.subplots_adjust(left=0.1, right=0.9, bottom=0.1, top=0.9, wspace=0.3, hspace=0.3)\n",
    "plt.show()"
   ]
  },
  {
   "cell_type": "markdown",
   "metadata": {},
   "source": [
    "Visualizing the difference between both"
   ]
  },
  {
   "cell_type": "code",
   "execution_count": null,
   "metadata": {},
   "outputs": [],
   "source": [
    "# %%timeit\n",
    "# Visualize output differences -- should be 0\n",
    "fig, axes = plt.subplots(2, 2, figsize=(10, 7))  # Adjusted figure size for better layout\n",
    "\n",
    "sns.heatmap(np.mean((nanoutput - torchoutput).detach().numpy().squeeze(), axis=0), ax=axes[0][0])\n",
    "axes[0][0].set_title('CPP Pool Threshold 0.25')\n",
    "\n",
    "sns.heatmap(np.mean((nanoutputPy - torchoutput).detach().numpy().squeeze(), axis=0), ax=axes[0][1])\n",
    "axes[0][1].set_title('Python Pool Threshold 0.25')\n",
    "\n",
    "sns.heatmap(np.mean((normaloutput - torchoutput).detach().numpy().squeeze(), axis=0), ax=axes[1][0])\n",
    "axes[1][0].set_title('Manual Pool')\n",
    "\n",
    "sns.heatmap(np.mean((torchoutput - torchoutput).detach().numpy().squeeze(), axis=0), ax=axes[1][1])\n",
    "axes[1][1].set_title('Torch Pool')\n",
    "\n",
    "plt.suptitle('Differences Across NaN and Torch Pool')\n",
    "# plt.savefig('/workspace/differences_comparison.png')  # Save the second plot\n",
    "fig.subplots_adjust(left=0.1, right=0.9, bottom=0.1, top=0.9, wspace=0.3, hspace=0.3)\n",
    "plt.show()"
   ]
  },
  {
   "cell_type": "markdown",
   "metadata": {},
   "source": [
    "Exploring the time taken for each method"
   ]
  },
  {
   "cell_type": "code",
   "execution_count": null,
   "metadata": {},
   "outputs": [],
   "source": [
    "cpp_time = cppTime.average\n",
    "py_time = pyTime.all_runs\n",
    "normal_time = normalTime.all_runs\n",
    "torch_time = torchTime.all_runs\n",
    "\n",
    "cpp_time"
   ]
  },
  {
   "cell_type": "code",
   "execution_count": null,
   "metadata": {},
   "outputs": [],
   "source": [
    "methods = ['CPP', 'Python', 'Normal', 'Torch']\n",
    "times_objects = [cppTime, pyTime, normalTime, torchTime]\n",
    "\n",
    "# Extracting the vectors from the time objects\n",
    "cpp_time = cppTime.average\n",
    "py_time = pyTime.average\n",
    "normal_time = normalTime.average\n",
    "torch_time = torchTime.average\n",
    "\n",
    "# Extracting the standard deviations\n",
    "cpp_std = cppTime.stdev\n",
    "py_std = pyTime.stdev\n",
    "normal_std = normalTime.stdev\n",
    "torch_std = torchTime.stdev\n",
    "\n",
    "times = [cpp_time, py_time, normal_time, torch_time]\n",
    "times_stnd_dev = [cpp_std, py_std, normal_std, torch_std]\n",
    "\n",
    "fig, ax = plt.subplots(figsize=(12, 9))  # Create a new figure with a single subplot\n",
    "bars = ax.bar(methods, times, capsize=25)  # Create a bar chart\n",
    "ax.set_title('Box Plot of Execution Times')\n",
    "ax.set_xlabel('Methods')\n",
    "ax.set_ylabel('Time (ms)')\n",
    "\n",
    "# Adding the mean and stnd dev to make more readable\n",
    "for bar, mean, std_dev in zip(bars, times, times_stnd_dev):\n",
    "    height = bar.get_height()\n",
    "    ax.text(bar.get_x() + bar.get_width() / 2, height,\n",
    "            f'Mean: {mean:.2f}\\nStnd Dev: {std_dev:.2f}',\n",
    "            ha='center', va='bottom')\n",
    "plt.show()  # Display the figure"
   ]
  },
  {
   "cell_type": "markdown",
   "metadata": {},
   "source": [
    "By observing the box plot, we notice a slight increase in execution time between the Python and C++ implementations, as expected. Interestingly, the custom-written normal pooling method is faster than the NaN pooling method. This is expected because the computational speedup for NaN layers should be realized during the custom NaN convolution operation at the cost of a slower max pooling layer. NaNPooling involves additional comparisons to check for NaNs and duplicates, and to replace these values as necessary, which is not required in normal max pooling. However, during NaNConv, some convolutions should be skipped which should mean that we will see a faster execution time.\n",
    "\n",
    "Given Torch's highly optimized code, matching its speed with our custom layers will be challenging. However, if we can demonstrate that NaNPooling and NaNConv are faster than normal pooling and convolution, we can argue that NaN layers could outperform Torch's layers if subjected to the same level of optimization."
   ]
  },
  {
   "cell_type": "markdown",
   "metadata": {},
   "source": [
    "It can be observed that the improvement seen in our case reflect those found in pytorch's documentation found [here](https://pytorch.org/tutorials/advanced/cpp_extension.html). Their improvement takes about ~67% of the initial time whereas our takes about ~62% of our initial time. \n",
    "\n",
    "Documentation Example:\n",
    "- Python custom implementation `Forward: 506.480 us | Backward 444.694 us`\n",
    "- C++ custom implementation `Forward: 349.335 us | Backward 443.523 us`\n",
    "\n",
    "NaN Pooling\n",
    "- Python custom implementation `NaNPooling: 90.35 sec`\n",
    "- C++ custom implementation `NaNPooling: 56.21 sec`"
   ]
  },
  {
   "cell_type": "markdown",
   "metadata": {},
   "source": [
    "# Different Scenarios"
   ]
  },
  {
   "cell_type": "markdown",
   "metadata": {},
   "source": [
    "It is observed that the threshold behaves a little differently in C++ than in the Python custom NaN implementation. Below is looking at it for different thresholds."
   ]
  },
  {
   "cell_type": "code",
   "execution_count": null,
   "metadata": {},
   "outputs": [],
   "source": [
    "thresholds = [0.25, 0.30, 0.50, 1]\n",
    "fig, axes = plt.subplots(2, 2, figsize=(10, 7))\n",
    "\n",
    "for count, threshold in enumerate(thresholds):\n",
    "    x = count // 2\n",
    "    y = count % 2\n",
    "    nanoutput, nanindices = nanCPP.NaNPool2d(a, (2,2), threshold, None)\n",
    "    sns.heatmap(np.mean(nanoutput.detach().numpy().squeeze(), axis=0), ax=axes[x][y])\n",
    "    axes[x][y].set_title('CPP Pool Threshold ' + str(threshold))\n",
    "\n",
    "fig.subplots_adjust(left=0.1, right=0.9, bottom=0.1, top=0.9, wspace=0.3, hspace=0.3)\n",
    "plt.show()"
   ]
  },
  {
   "cell_type": "markdown",
   "metadata": {},
   "source": [
    "# Exploring NaNConv in Python vs Normal NanConv"
   ]
  },
  {
   "cell_type": "code",
   "execution_count": 18,
   "metadata": {},
   "outputs": [],
   "source": [
    "kernel = torch.randint(1,10,(2,71,6,6)).float()"
   ]
  },
  {
   "cell_type": "code",
   "execution_count": 20,
   "metadata": {},
   "outputs": [
    {
     "name": "stdout",
     "output_type": "stream",
     "text": [
      "5.94 s ± 64.9 ms per loop (mean ± std. dev. of 3 runs, 10 loops each)\n"
     ]
    },
    {
     "data": {
      "text/plain": [
       "<TimeitResult : 5.94 s ± 64.9 ms per loop (mean ± std. dev. of 3 runs, 10 loops each)>"
      ]
     },
     "execution_count": 20,
     "metadata": {},
     "output_type": "execute_result"
    }
   ],
   "source": [
    "%%timeit -o -n 10 -r 3\n",
    "normalConv = NormalConv2d(kernel_size = (3,3), kernel = kernel, padding = 0)\n",
    "normaloutput =  normalConv(a)  # pool_size == kernel_size\n"
   ]
  },
  {
   "cell_type": "code",
   "execution_count": 21,
   "metadata": {},
   "outputs": [],
   "source": [
    "saved_time_Normal = _\n",
    "saved_time_Normal = saved_time_Normal.average"
   ]
  },
  {
   "cell_type": "code",
   "execution_count": null,
   "metadata": {},
   "outputs": [],
   "source": [
    "%%timeit -o -n 10 -r 3\n",
    "nanConv = NaNConv2d(kernel_size = (3,3), kernel = kernel, padding = 1, threshold = 1)\n",
    "nanoutput = nanConv(a)"
   ]
  },
  {
   "cell_type": "code",
   "execution_count": null,
   "metadata": {},
   "outputs": [],
   "source": [
    "saved_time_Nan = _\n",
    "saved_time_Nan = saved_time_Nan.average"
   ]
  },
  {
   "cell_type": "code",
   "execution_count": 22,
   "metadata": {},
   "outputs": [
    {
     "name": "stdout",
     "output_type": "stream",
     "text": [
      "7.18 s ± 66.1 ms per loop (mean ± std. dev. of 3 runs, 10 loops each)\n"
     ]
    },
    {
     "data": {
      "text/plain": [
       "<TimeitResult : 7.18 s ± 66.1 ms per loop (mean ± std. dev. of 3 runs, 10 loops each)>"
      ]
     },
     "execution_count": 22,
     "metadata": {},
     "output_type": "execute_result"
    }
   ],
   "source": [
    "%%timeit -o -n 10 -r 3\n",
    "nanConv = NaNConv2d(kernel_size = (3,3), kernel = kernel, padding = 1, threshold = 1)\n",
    "nanoutput = nanConv(a)"
   ]
  },
  {
   "cell_type": "code",
   "execution_count": 23,
   "metadata": {},
   "outputs": [],
   "source": [
    "saved_time_NanV2 = _\n",
    "saved_time_NanV2 = saved_time_Nan.averageV2"
   ]
  },
  {
   "cell_type": "code",
   "execution_count": 24,
   "metadata": {},
   "outputs": [
    {
     "name": "stdout",
     "output_type": "stream",
     "text": [
      "4.76 ms ± 365 µs per loop (mean ± std. dev. of 3 runs, 10 loops each)\n"
     ]
    },
    {
     "data": {
      "text/plain": [
       "<TimeitResult : 4.76 ms ± 365 µs per loop (mean ± std. dev. of 3 runs, 10 loops each)>"
      ]
     },
     "execution_count": 24,
     "metadata": {},
     "output_type": "execute_result"
    }
   ],
   "source": [
    "%%timeit -o -n 10 -r 3\n",
    "torchConv = torch.nn.Conv2d(71, 2, 3, padding=1)\n",
    "torchoutput = torchConv(a)"
   ]
  },
  {
   "cell_type": "code",
   "execution_count": 25,
   "metadata": {},
   "outputs": [],
   "source": [
    "saved_time_torch = _\n",
    "saved_time_torch = saved_time_torch.average"
   ]
  },
  {
   "cell_type": "code",
   "execution_count": 26,
   "metadata": {},
   "outputs": [
    {
     "data": {
      "image/png": "[encoded data removed]",
      "text/plain": [
       "<Figure size 600x400 with 1 Axes>"
      ]
     },
     "metadata": {},
     "output_type": "display_data"
    }
   ],
   "source": [
    "methods = ['PythonNormal', 'PythonNan', 'PythonNanV2', 'Torch']\n",
    "times = [saved_time_Normal, saved_time_Nan, saved_time_NanV2,  saved_time_torch]\n",
    "\n",
    "fig, ax = plt.subplots(figsize=(6, 4))  # Create a new figure with a single subplot\n",
    "bars = ax.bar(methods, times, capsize=25)  # Create a bar chart\n",
    "ax.set_title('Box Plot of Execution Times')\n",
    "ax.set_xlabel('Methods')\n",
    "ax.set_ylabel('Time (ms)')\n",
    "\n",
    "# Adding the mean and stnd dev to make more readable\n",
    "for bar, mean in zip(bars, times):\n",
    "    height = bar.get_height()\n",
    "    ax.text(bar.get_x() + bar.get_width() / 2, height,\n",
    "            f'Mean: {mean:.2f}',\n",
    "            ha='center', va='bottom')\n",
    "plt.show()  # Display the figure"
   ]
  }
 ],
 "metadata": {
  "kernelspec": {
   "display_name": "Python 3 (ipykernel)",
   "language": "python",
   "name": "python3"
  },
  "language_info": {
   "codemirror_mode": {
    "name": "ipython",
    "version": 3
   },
   "file_extension": ".py",
   "mimetype": "text/x-python",
   "name": "python",
   "nbconvert_exporter": "python",
   "pygments_lexer": "ipython3",
   "version": "3.10.13"
  }
 },
 "nbformat": 4,
 "nbformat_minor": 2
}
